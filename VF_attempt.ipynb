{
 "cells": [
  {
   "cell_type": "code",
   "execution_count": 121,
   "metadata": {},
   "outputs": [
    {
     "name": "stdout",
     "output_type": "stream",
     "text": [
      "[2.+4.j 5.+0.j]\n",
      "(2,)\n"
     ]
    },
    {
     "name": "stderr",
     "output_type": "stream",
     "text": [
      "/usr/lib/python3.7/site-packages/ipykernel_launcher.py:36: FutureWarning: `rcond` parameter will change to the default of machine precision times ``max(M, N)`` where M and N are the input matrix dimensions.\n",
      "To use the future default and silence this warning we advise to pass `rcond=None`, to keep using the old, explicitly pass `rcond=-1`.\n",
      "/usr/lib/python3.7/site-packages/ipykernel_launcher.py:39: ComplexWarning: Casting complex values to real discards the imaginary part\n",
      "/usr/lib/python3.7/site-packages/ipykernel_launcher.py:40: ComplexWarning: Casting complex values to real discards the imaginary part\n",
      "/usr/lib/python3.7/site-packages/ipykernel_launcher.py:6: RuntimeWarning: divide by zero encountered in true_divide\n",
      "/usr/lib/python3.7/site-packages/ipykernel_launcher.py:6: RuntimeWarning: invalid value encountered in true_divide\n"
     ]
    },
    {
     "ename": "TypeError",
     "evalue": "fsolve: there is a mismatch between the input and output shape of the 'func' argument 'update_b'.Shape should be (2,) but it is (1,).",
     "output_type": "error",
     "traceback": [
      "\u001b[0;31m---------------------------------------------------------------------------\u001b[0m",
      "\u001b[0;31mTypeError\u001b[0m                                 Traceback (most recent call last)",
      "\u001b[0;32m<ipython-input-121-3f4b4554356a>\u001b[0m in \u001b[0;36m<module>\u001b[0;34m\u001b[0m\n\u001b[1;32m     56\u001b[0m \u001b[0mY\u001b[0m \u001b[0;34m=\u001b[0m \u001b[0mnp\u001b[0m\u001b[0;34m.\u001b[0m\u001b[0mloadtxt\u001b[0m\u001b[0;34m(\u001b[0m\u001b[0;34m'training_data/test/noised_data.txt'\u001b[0m\u001b[0;34m)\u001b[0m\u001b[0;34m\u001b[0m\u001b[0;34m\u001b[0m\u001b[0m\n\u001b[1;32m     57\u001b[0m \u001b[0mtrue_poles\u001b[0m \u001b[0;34m=\u001b[0m \u001b[0mnp\u001b[0m\u001b[0;34m.\u001b[0m\u001b[0mloadtxt\u001b[0m\u001b[0;34m(\u001b[0m\u001b[0;34m'training_data/test/poles.txt'\u001b[0m\u001b[0;34m)\u001b[0m\u001b[0;34m\u001b[0m\u001b[0;34m\u001b[0m\u001b[0m\n\u001b[0;32m---> 58\u001b[0;31m \u001b[0mfitted_poles\u001b[0m \u001b[0;34m=\u001b[0m \u001b[0mvector_fitting\u001b[0m\u001b[0;34m(\u001b[0m\u001b[0mZ\u001b[0m\u001b[0;34m,\u001b[0m \u001b[0mY\u001b[0m\u001b[0;34m,\u001b[0m \u001b[0;34m[\u001b[0m\u001b[0;36m2\u001b[0m\u001b[0;34m+\u001b[0m\u001b[0;36m4j\u001b[0m\u001b[0;34m,\u001b[0m \u001b[0;36m5\u001b[0m\u001b[0;34m]\u001b[0m\u001b[0;34m,\u001b[0m \u001b[0;36m3\u001b[0m\u001b[0;34m)\u001b[0m\u001b[0;34m\u001b[0m\u001b[0;34m\u001b[0m\u001b[0m\n\u001b[0m",
      "\u001b[0;32m<ipython-input-121-3f4b4554356a>\u001b[0m in \u001b[0;36mvector_fitting\u001b[0;34m(input_data, output_data, initial_poles, iterations)\u001b[0m\n\u001b[1;32m     43\u001b[0m         \u001b[0mprint\u001b[0m\u001b[0;34m(\u001b[0m\u001b[0mr\u001b[0m\u001b[0;34m[\u001b[0m\u001b[0mi\u001b[0m\u001b[0;34m+\u001b[0m\u001b[0;36m1\u001b[0m\u001b[0;34m,\u001b[0m\u001b[0;34m:\u001b[0m\u001b[0;34m]\u001b[0m\u001b[0;34m.\u001b[0m\u001b[0mshape\u001b[0m\u001b[0;34m)\u001b[0m\u001b[0;34m\u001b[0m\u001b[0;34m\u001b[0m\u001b[0m\n\u001b[1;32m     44\u001b[0m         \u001b[0;31m# Update poles by finding root of\u001b[0m\u001b[0;34m\u001b[0m\u001b[0;34m\u001b[0m\u001b[0;34m\u001b[0m\u001b[0m\n\u001b[0;32m---> 45\u001b[0;31m         \u001b[0mpoles\u001b[0m\u001b[0;34m[\u001b[0m\u001b[0mi\u001b[0m\u001b[0;34m+\u001b[0m\u001b[0;36m1\u001b[0m\u001b[0;34m,\u001b[0m\u001b[0;34m:\u001b[0m\u001b[0;34m]\u001b[0m \u001b[0;34m=\u001b[0m \u001b[0mscipy\u001b[0m\u001b[0;34m.\u001b[0m\u001b[0moptimize\u001b[0m\u001b[0;34m.\u001b[0m\u001b[0mroot\u001b[0m\u001b[0;34m(\u001b[0m\u001b[0mupdate_b\u001b[0m\u001b[0;34m,\u001b[0m \u001b[0mpoles\u001b[0m\u001b[0;34m[\u001b[0m\u001b[0mi\u001b[0m\u001b[0;34m,\u001b[0m\u001b[0;34m:\u001b[0m\u001b[0;34m]\u001b[0m\u001b[0;34m,\u001b[0m \u001b[0margs\u001b[0m\u001b[0;34m=\u001b[0m\u001b[0;34m(\u001b[0m\u001b[0mr\u001b[0m\u001b[0;34m[\u001b[0m\u001b[0mi\u001b[0m\u001b[0;34m+\u001b[0m\u001b[0;36m1\u001b[0m\u001b[0;34m,\u001b[0m\u001b[0;34m:\u001b[0m\u001b[0;34m]\u001b[0m\u001b[0;34m,\u001b[0m \u001b[0mpoles\u001b[0m\u001b[0;34m[\u001b[0m\u001b[0mi\u001b[0m\u001b[0;34m,\u001b[0m\u001b[0;34m:\u001b[0m\u001b[0;34m]\u001b[0m\u001b[0;34m,\u001b[0m \u001b[0msolution\u001b[0m\u001b[0;34m[\u001b[0m\u001b[0;36m0\u001b[0m\u001b[0;34m]\u001b[0m\u001b[0;34m)\u001b[0m\u001b[0;34m)\u001b[0m\u001b[0;34m\u001b[0m\u001b[0;34m\u001b[0m\u001b[0m\n\u001b[0m\u001b[1;32m     46\u001b[0m \u001b[0;34m\u001b[0m\u001b[0m\n\u001b[1;32m     47\u001b[0m     \u001b[0;32mreturn\u001b[0m \u001b[0mp\u001b[0m\u001b[0;34m\u001b[0m\u001b[0;34m\u001b[0m\u001b[0m\n",
      "\u001b[0;32m/usr/lib/python3.7/site-packages/scipy/optimize/_root.py\u001b[0m in \u001b[0;36mroot\u001b[0;34m(fun, x0, args, method, jac, tol, callback, options)\u001b[0m\n",
      "\u001b[0;32m/usr/lib/python3.7/site-packages/scipy/optimize/minpack.py\u001b[0m in \u001b[0;36m_root_hybr\u001b[0;34m(func, x0, args, jac, col_deriv, xtol, maxfev, band, eps, factor, diag, **unknown_options)\u001b[0m\n",
      "\u001b[0;32m/usr/lib/python3.7/site-packages/scipy/optimize/minpack.py\u001b[0m in \u001b[0;36m_check_func\u001b[0;34m(checker, argname, thefunc, x0, args, numinputs, output_shape)\u001b[0m\n",
      "\u001b[0;31mTypeError\u001b[0m: fsolve: there is a mismatch between the input and output shape of the 'func' argument 'update_b'.Shape should be (2,) but it is (1,)."
     ]
    }
   ],
   "source": [
    "import numpy as np\n",
    "import scipy\n",
    "\n",
    "def update_b(z, residues, poles, constant):\n",
    "    \n",
    "    np.sum(residues/(z-poles)) + constant\n",
    "        \n",
    "def vector_fitting(input_data, output_data, initial_poles, iterations):\n",
    "    \n",
    "    \"\"\"\n",
    "    Notice that we use the first term in the vector for the constant c^{i+1}\n",
    "    \"\"\"\n",
    "    z = input_data\n",
    "    y = output_data\n",
    "    \n",
    "    n_data_points = z.size\n",
    "    n_poles = len(initial_poles)\n",
    "    \n",
    "    #print(n_poles)\n",
    "    A = np.zeros((iterations, n_data_points, 2*n_poles+1), dtype='complex128')\n",
    "    A[:,:,0] = 1\n",
    "    \n",
    "    poles = np.zeros((iterations, n_poles), dtype = 'complex128')\n",
    "    poles[0,:] = initial_poles\n",
    "    \n",
    "    r = np.ones((iterations,n_poles))\n",
    "    #r[0] = [1]*n_poles\n",
    "    for i in range(iterations):\n",
    "        for k in range(n_data_points):\n",
    "            for n in range(1,n_poles):\n",
    "                #print(i,k,n)\n",
    "                A[i,k,n] = 1/(z[k] - poles[i,n])\n",
    "                A[i,k,n+n_poles-1] = -y[k]/(z[k] - poles[i,n])\n",
    "        #print(A[i,:,:].shape)\n",
    "        #print(y.shape)\n",
    "        solution = np.linalg.lstsq(A[i,:,:], y)[0]\n",
    "        #solutions[i] = solution\n",
    "        \n",
    "        r[i+1,:] = solution[1:n_poles]\n",
    "        r[i,:] = solution[n_poles+1:]\n",
    "        \n",
    "        print(poles[i,:])\n",
    "        print(r[i+1,:].shape)\n",
    "        # Update poles by finding root of \n",
    "        poles[i+1,:] = scipy.optimize.root(update_b, poles[i,:], args=(r[i+1,:], poles[i,:], solution[0]))\n",
    "                \n",
    "    return p    \n",
    "                \n",
    "            \n",
    "\n",
    "#F[i,k,n] = R[i,n]/(z[k] - p[i,n]) + c[i]\n",
    "\n",
    "#b[i,k,n] = r[i+1, n]/(z[k] - p[i,n]) + c[i+1]\n",
    "\n",
    "Z = np.loadtxt('training_data/test/X.txt')\n",
    "Y = np.loadtxt('training_data/test/noised_data.txt')\n",
    "true_poles = np.loadtxt('training_data/test/poles.txt')\n",
    "fitted_poles = vector_fitting(Z, Y, [2+4j, 5], 3)"
   ]
  },
  {
   "cell_type": "code",
   "execution_count": 70,
   "metadata": {},
   "outputs": [
    {
     "data": {
      "text/plain": [
       "array([-42.92343567, -38.21306096, -37.25315819, -34.05699688,\n",
       "       -33.96613843, -32.49753705, -28.3376286 , -31.18669529,\n",
       "       -29.93567817, -23.72747231, -26.25852932, -22.9430054 ,\n",
       "       -22.94051246, -21.77713096, -16.41169328, -17.89060731,\n",
       "       -20.00825493, -23.59246204, -17.33820644, -16.11711729,\n",
       "       -19.37891182, -13.34775046, -11.4800637 ,  -9.16069469,\n",
       "       -13.79201784, -10.17656696,  -8.77562952, -10.87607842,\n",
       "        -9.21826872,  -9.90131316,  -6.84156868,  -7.52322434,\n",
       "       -10.58213224,  -7.08098942,  -4.79753118,  -8.23385605,\n",
       "        -8.01196506,  -2.89727928,  -5.6483336 ,  -2.73910555,\n",
       "        -6.69143557,  -3.28008563,  -0.38332637,  -1.85399698,\n",
       "         2.09756716,  -5.0347273 ,  -3.45184496,  -2.34405038,\n",
       "        -1.8078553 ,  -0.45018275,   4.00290671,  -1.39024605,\n",
       "        -1.16430912,  -5.90386141,  -2.65854559,  -1.49923109,\n",
       "        -4.07762643,  -0.13715318,   2.29862393,   6.53053461,\n",
       "         7.47812248,  -3.7205567 ,  -1.87281882,  -0.15275178,\n",
       "         2.06998402,   4.10284654,   3.22625697,   1.73225278,\n",
       "         2.66222837,  -1.60375234,  -5.87670086,  -1.47956863,\n",
       "         0.72706954,  -1.23159814, -12.28760158,  11.80167322,\n",
       "         1.13630659,   7.97967781,   7.04105613,   1.07133379,\n",
       "         3.67218251,   2.75062881,   5.23259028,   1.1842328 ,\n",
       "         0.73374263,   0.36729335,   3.86012676,  -0.68441782,\n",
       "        -3.85981013,   0.81413664,  -2.80661445,  -2.03285264,\n",
       "         2.0397694 ,  -4.53547418,  -1.54013831,   0.78281992,\n",
       "         0.24951071,  -1.8834691 ,  -1.04285712,  -3.56455661])"
      ]
     },
     "execution_count": 70,
     "metadata": {},
     "output_type": "execute_result"
    }
   ],
   "source": [
    "Y"
   ]
  },
  {
   "cell_type": "code",
   "execution_count": 23,
   "metadata": {},
   "outputs": [
    {
     "data": {
      "text/plain": [
       "array([[1., 1.],\n",
       "       [1., 1.],\n",
       "       [1., 1.]])"
      ]
     },
     "execution_count": 23,
     "metadata": {},
     "output_type": "execute_result"
    }
   ],
   "source": [
    "import numpy as np\n",
    "\n",
    "x = np.array(np.zeros((3,2)))\n",
    "x + 1"
   ]
  },
  {
   "cell_type": "code",
   "execution_count": 66,
   "metadata": {},
   "outputs": [
    {
     "data": {
      "text/plain": [
       "array([[0., 0., 0., 0., 0.],\n",
       "       [0., 0., 0., 0., 0.],\n",
       "       [0., 0., 0., 0., 0.],\n",
       "       [0., 0., 0., 0., 0.]])"
      ]
     },
     "execution_count": 66,
     "metadata": {},
     "output_type": "execute_result"
    }
   ],
   "source": [
    "n = 2\n",
    "lol = np.zeros((3,4,5))\n",
    "lol[1,:,:]"
   ]
  },
  {
   "cell_type": "code",
   "execution_count": 38,
   "metadata": {},
   "outputs": [],
   "source": [
    "lol = np.zeros((3,3), dtype = 'complex128')"
   ]
  },
  {
   "cell_type": "code",
   "execution_count": 82,
   "metadata": {},
   "outputs": [
    {
     "data": {
      "text/plain": [
       "(array([2., 3.]), array([], dtype=float64), 2, array([3.61803399, 1.38196601]))"
      ]
     },
     "execution_count": 82,
     "metadata": {},
     "output_type": "execute_result"
    }
   ],
   "source": [
    "mat = np.array([[3,1],[1,2]])\n",
    "lol1 = np.array([9,8])\n",
    "np.linalg.lstsq(mat, lol1, rcond =None)"
   ]
  },
  {
   "cell_type": "code",
   "execution_count": 84,
   "metadata": {},
   "outputs": [
    {
     "data": {
      "text/plain": [
       "array([9, 8])"
      ]
     },
     "execution_count": 84,
     "metadata": {},
     "output_type": "execute_result"
    }
   ],
   "source": [
    "mat.dot([2,3])"
   ]
  },
  {
   "cell_type": "code",
   "execution_count": 87,
   "metadata": {},
   "outputs": [
    {
     "data": {
      "text/plain": [
       "[1, 1]"
      ]
     },
     "execution_count": 87,
     "metadata": {},
     "output_type": "execute_result"
    }
   ],
   "source": [
    "[1]*2"
   ]
  },
  {
   "cell_type": "code",
   "execution_count": null,
   "metadata": {},
   "outputs": [],
   "source": []
  }
 ],
 "metadata": {
  "kernelspec": {
   "display_name": "Python 3",
   "language": "python",
   "name": "python3"
  },
  "language_info": {
   "codemirror_mode": {
    "name": "ipython",
    "version": 3
   },
   "file_extension": ".py",
   "mimetype": "text/x-python",
   "name": "python",
   "nbconvert_exporter": "python",
   "pygments_lexer": "ipython3",
   "version": "3.7.4"
  }
 },
 "nbformat": 4,
 "nbformat_minor": 4
}
