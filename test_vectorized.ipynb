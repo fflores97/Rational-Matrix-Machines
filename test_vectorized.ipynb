{
 "nbformat": 4,
 "nbformat_minor": 2,
 "metadata": {
  "language_info": {
   "name": "python",
   "codemirror_mode": {
    "name": "ipython",
    "version": 3
   }
  },
  "orig_nbformat": 2,
  "file_extension": ".py",
  "mimetype": "text/x-python",
  "name": "python",
  "npconvert_exporter": "python",
  "pygments_lexer": "ipython3",
  "version": 3
 },
 "cells": [
  {
   "cell_type": "code",
   "execution_count": null,
   "metadata": {},
   "outputs": [],
   "source": [
    "import numpy as np\n",
    "import importlib\n",
    "import matplotlib.pyplot as plt\n",
    "from mpl_toolkits.mplot3d import Axes3D\n",
    "from matplotlib import cm\n",
    "from matplotlib.ticker import LinearLocator, FormatStrFormatter\n",
    "\n",
    "from rmm import rmm_utils\n",
    "from rmm import rmm_plot\n",
    "\n",
    "\n",
    "# Generate toy model data\n",
    "\n",
    "importlib.reload(rmm_utils)\n",
    "importlib.reload(rmm_plot)\n",
    "\n",
    "# Parameters\n",
    "path = 'training_data/vectorized'\n",
    "number_of_poles = 20\n",
    "true_poles = rmm_utils.random_poles(number_of_poles, [[1, 10000], [-20,20]])\n",
    "#true_residues = 10*np.random.rand(number_of_poles)\n",
    "true_residues = 100*np.array([ np.exp(1j*2*np.pi*np.random.rand(1)) for i in range(number_of_poles)])\n",
    "X = np.linspace(1,10000,100)\n",
    "Y = np.linspace(-20, 20, 50)\n",
    "\n"
   ]
  }
 ]
}